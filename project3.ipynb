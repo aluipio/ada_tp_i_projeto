{
 "cells": [
  {
   "cell_type": "code",
   "execution_count": 1,
   "metadata": {},
   "outputs": [],
   "source": [
    "import requests\n",
    "import json\n",
    "import pandas as pd\n",
    "from threading import Thread\n",
    "import subprocess\n",
    "import os\n",
    "import time\n",
    "from datetime import datetime"
   ]
  },
  {
   "cell_type": "code",
   "execution_count": 2,
   "metadata": {},
   "outputs": [],
   "source": [
    "def get_directory_server():\n",
    "    \"\"\"Retorna o diretorio completo do arquivo web-server\"\"\"\n",
    "    dirc = r'\\ada_project-main\\web-server.js'\n",
    "    return str(os.getcwd())+dirc"
   ]
  },
  {
   "cell_type": "code",
   "execution_count": 3,
   "metadata": {},
   "outputs": [],
   "source": [
    "def run_server(dirc):\n",
    "  \"\"\"Inicia o servidor como um subprocesso\"\"\"\n",
    "  print('Server Started \\n')\n",
    "  output = subprocess.run([\"node\", dirc])\n",
    "  print('Server Closed')\n",
    "  \n",
    "def kill_server():\n",
    "  os.system('cmd /c taskkill /f /im node.exe')"
   ]
  },
  {
   "cell_type": "code",
   "execution_count": 61,
   "metadata": {},
   "outputs": [
    {
     "name": "stdout",
     "output_type": "stream",
     "text": [
      "Server Started \n",
      "\n",
      "Server Closed\n"
     ]
    }
   ],
   "source": [
    "#Inicia o servidor através dos scripts em uma thread, ignorar esta célula caso dê erro e iniciar o servidor manualmente\n",
    "server = Thread(target=run_server, args=(get_directory_server(),)) #you can create as many threads as you need\n",
    "server.start()\n",
    "def fill_dataset(URL: str='http://localhost:3000/api/ep1'):\n",
    "    \"\"\"Faz as requisições na API até a data atual e transforma os dados recebidos para um dataset\"\"\"\n",
    "    df=pd.DataFrame(columns=['id', 'date', 'n_week', 'week_year', 'month_year']+[f'prod_{n}' for n in range(16)])\n",
    "    aux=1\n",
    "    while True:\n",
    "        request = pd.DataFrame(requests.get('http://localhost:3000/api/ep1').json())\n",
    "        if (len(request)>0 and request['date'][0]>datetime.timestamp(datetime.now())):\n",
    "            break\n",
    "        request['n_week']= aux\n",
    "        df=pd.concat([df, request])\n",
    "        aux+=1\n",
    "\n",
    "    df['date'] = pd.to_datetime(df['date'], unit='s')\n",
    "    df['month_year'] = df['date'].dt.strftime('%m-%Y')\n",
    "    df['week_year'] = df['date'].dt.strftime('%U-%Y')\n",
    "    df = df.fillna(0)\n",
    "    return df\n",
    "#Cria o dataset com todas as requisições e salva em um csv\n",
    "df= fill_dataset()\n",
    "df.to_csv(r'Dados\\all_sales.csv')\n",
    "kill_server()"
   ]
  }
 ],
 "metadata": {
  "kernelspec": {
   "display_name": "Python 3.10.2 64-bit",
   "language": "python",
   "name": "python3"
  },
  "language_info": {
   "codemirror_mode": {
    "name": "ipython",
    "version": 3
   },
   "file_extension": ".py",
   "mimetype": "text/x-python",
   "name": "python",
   "nbconvert_exporter": "python",
   "pygments_lexer": "ipython3",
   "version": "3.10.2"
  },
  "orig_nbformat": 4,
  "vscode": {
   "interpreter": {
    "hash": "b808bb5dca45c3e2fc5243af8a719b80ea5b589ac80a10d8e251e419b9056bf2"
   }
  }
 },
 "nbformat": 4,
 "nbformat_minor": 2
}
